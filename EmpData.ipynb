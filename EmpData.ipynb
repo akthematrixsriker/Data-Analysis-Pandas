{
 "cells": [
  {
   "cell_type": "code",
   "execution_count": 1,
   "id": "7f256f60",
   "metadata": {},
   "outputs": [],
   "source": [
    "import pandas as pd"
   ]
  },
  {
   "cell_type": "code",
   "execution_count": 2,
   "id": "e34970d4",
   "metadata": {},
   "outputs": [],
   "source": [
    "from IPython import get_ipython"
   ]
  },
  {
   "cell_type": "code",
   "execution_count": 3,
   "id": "7602527d",
   "metadata": {},
   "outputs": [],
   "source": [
    "df = pd.read_csv('data/EmpDataSet.csv')"
   ]
  },
  {
   "cell_type": "code",
   "execution_count": 4,
   "id": "fdf238b7",
   "metadata": {},
   "outputs": [
    {
     "data": {
      "text/html": [
       "<div>\n",
       "<style scoped>\n",
       "    .dataframe tbody tr th:only-of-type {\n",
       "        vertical-align: middle;\n",
       "    }\n",
       "\n",
       "    .dataframe tbody tr th {\n",
       "        vertical-align: top;\n",
       "    }\n",
       "\n",
       "    .dataframe thead th {\n",
       "        text-align: right;\n",
       "    }\n",
       "</style>\n",
       "<table border=\"1\" class=\"dataframe\">\n",
       "  <thead>\n",
       "    <tr style=\"text-align: right;\">\n",
       "      <th></th>\n",
       "      <th>Employee ID</th>\n",
       "      <th>Name</th>\n",
       "      <th>Department</th>\n",
       "      <th>Salary</th>\n",
       "    </tr>\n",
       "  </thead>\n",
       "  <tbody>\n",
       "    <tr>\n",
       "      <th>0</th>\n",
       "      <td>EMP001</td>\n",
       "      <td>John Doe</td>\n",
       "      <td>Marketing</td>\n",
       "      <td>$50,000</td>\n",
       "    </tr>\n",
       "    <tr>\n",
       "      <th>1</th>\n",
       "      <td>EMP002</td>\n",
       "      <td>Jane Smith</td>\n",
       "      <td>HR</td>\n",
       "      <td>$55,000</td>\n",
       "    </tr>\n",
       "    <tr>\n",
       "      <th>2</th>\n",
       "      <td>EMP003</td>\n",
       "      <td>Michael Lee</td>\n",
       "      <td>Sales</td>\n",
       "      <td>$60,000</td>\n",
       "    </tr>\n",
       "    <tr>\n",
       "      <th>3</th>\n",
       "      <td>EMP004</td>\n",
       "      <td>Emily Brown</td>\n",
       "      <td>Finance</td>\n",
       "      <td>$65,000</td>\n",
       "    </tr>\n",
       "    <tr>\n",
       "      <th>4</th>\n",
       "      <td>EMP005</td>\n",
       "      <td>David Johnson</td>\n",
       "      <td>Engineering</td>\n",
       "      <td>$70,000</td>\n",
       "    </tr>\n",
       "    <tr>\n",
       "      <th>5</th>\n",
       "      <td>EMP006</td>\n",
       "      <td>Sarah Wilson</td>\n",
       "      <td>Marketing</td>\n",
       "      <td>$55,000</td>\n",
       "    </tr>\n",
       "    <tr>\n",
       "      <th>6</th>\n",
       "      <td>EMP007</td>\n",
       "      <td>Kevin Clark</td>\n",
       "      <td>HR</td>\n",
       "      <td>$58,000</td>\n",
       "    </tr>\n",
       "    <tr>\n",
       "      <th>7</th>\n",
       "      <td>EMP008</td>\n",
       "      <td>Lisa Davis</td>\n",
       "      <td>Sales</td>\n",
       "      <td>$62,000</td>\n",
       "    </tr>\n",
       "    <tr>\n",
       "      <th>8</th>\n",
       "      <td>EMP009</td>\n",
       "      <td>Jason Taylor</td>\n",
       "      <td>Finance</td>\n",
       "      <td>$67,000</td>\n",
       "    </tr>\n",
       "    <tr>\n",
       "      <th>9</th>\n",
       "      <td>EMP010</td>\n",
       "      <td>Amanda Wright</td>\n",
       "      <td>Engineering</td>\n",
       "      <td>$72,000</td>\n",
       "    </tr>\n",
       "  </tbody>\n",
       "</table>\n",
       "</div>"
      ],
      "text/plain": [
       "  Employee ID           Name   Department   Salary\n",
       "0      EMP001       John Doe    Marketing  $50,000\n",
       "1      EMP002     Jane Smith           HR  $55,000\n",
       "2      EMP003    Michael Lee        Sales  $60,000\n",
       "3      EMP004    Emily Brown      Finance  $65,000\n",
       "4      EMP005  David Johnson  Engineering  $70,000\n",
       "5      EMP006   Sarah Wilson    Marketing  $55,000\n",
       "6      EMP007    Kevin Clark           HR  $58,000\n",
       "7      EMP008     Lisa Davis        Sales  $62,000\n",
       "8      EMP009   Jason Taylor      Finance  $67,000\n",
       "9      EMP010  Amanda Wright  Engineering  $72,000"
      ]
     },
     "execution_count": 4,
     "metadata": {},
     "output_type": "execute_result"
    }
   ],
   "source": [
    "df"
   ]
  },
  {
   "cell_type": "code",
   "execution_count": 5,
   "id": "2a2ba9e9",
   "metadata": {},
   "outputs": [],
   "source": [
    "df = pd.DataFrame(df)"
   ]
  },
  {
   "cell_type": "code",
   "execution_count": 6,
   "id": "10a8f83a",
   "metadata": {},
   "outputs": [
    {
     "data": {
      "text/html": [
       "<div>\n",
       "<style scoped>\n",
       "    .dataframe tbody tr th:only-of-type {\n",
       "        vertical-align: middle;\n",
       "    }\n",
       "\n",
       "    .dataframe tbody tr th {\n",
       "        vertical-align: top;\n",
       "    }\n",
       "\n",
       "    .dataframe thead th {\n",
       "        text-align: right;\n",
       "    }\n",
       "</style>\n",
       "<table border=\"1\" class=\"dataframe\">\n",
       "  <thead>\n",
       "    <tr style=\"text-align: right;\">\n",
       "      <th></th>\n",
       "      <th>Employee ID</th>\n",
       "      <th>Name</th>\n",
       "      <th>Department</th>\n",
       "      <th>Salary</th>\n",
       "    </tr>\n",
       "  </thead>\n",
       "  <tbody>\n",
       "    <tr>\n",
       "      <th>0</th>\n",
       "      <td>EMP001</td>\n",
       "      <td>John Doe</td>\n",
       "      <td>Marketing</td>\n",
       "      <td>$50,000</td>\n",
       "    </tr>\n",
       "    <tr>\n",
       "      <th>1</th>\n",
       "      <td>EMP002</td>\n",
       "      <td>Jane Smith</td>\n",
       "      <td>HR</td>\n",
       "      <td>$55,000</td>\n",
       "    </tr>\n",
       "    <tr>\n",
       "      <th>2</th>\n",
       "      <td>EMP003</td>\n",
       "      <td>Michael Lee</td>\n",
       "      <td>Sales</td>\n",
       "      <td>$60,000</td>\n",
       "    </tr>\n",
       "    <tr>\n",
       "      <th>3</th>\n",
       "      <td>EMP004</td>\n",
       "      <td>Emily Brown</td>\n",
       "      <td>Finance</td>\n",
       "      <td>$65,000</td>\n",
       "    </tr>\n",
       "    <tr>\n",
       "      <th>4</th>\n",
       "      <td>EMP005</td>\n",
       "      <td>David Johnson</td>\n",
       "      <td>Engineering</td>\n",
       "      <td>$70,000</td>\n",
       "    </tr>\n",
       "    <tr>\n",
       "      <th>5</th>\n",
       "      <td>EMP006</td>\n",
       "      <td>Sarah Wilson</td>\n",
       "      <td>Marketing</td>\n",
       "      <td>$55,000</td>\n",
       "    </tr>\n",
       "    <tr>\n",
       "      <th>6</th>\n",
       "      <td>EMP007</td>\n",
       "      <td>Kevin Clark</td>\n",
       "      <td>HR</td>\n",
       "      <td>$58,000</td>\n",
       "    </tr>\n",
       "    <tr>\n",
       "      <th>7</th>\n",
       "      <td>EMP008</td>\n",
       "      <td>Lisa Davis</td>\n",
       "      <td>Sales</td>\n",
       "      <td>$62,000</td>\n",
       "    </tr>\n",
       "    <tr>\n",
       "      <th>8</th>\n",
       "      <td>EMP009</td>\n",
       "      <td>Jason Taylor</td>\n",
       "      <td>Finance</td>\n",
       "      <td>$67,000</td>\n",
       "    </tr>\n",
       "    <tr>\n",
       "      <th>9</th>\n",
       "      <td>EMP010</td>\n",
       "      <td>Amanda Wright</td>\n",
       "      <td>Engineering</td>\n",
       "      <td>$72,000</td>\n",
       "    </tr>\n",
       "  </tbody>\n",
       "</table>\n",
       "</div>"
      ],
      "text/plain": [
       "  Employee ID           Name   Department   Salary\n",
       "0      EMP001       John Doe    Marketing  $50,000\n",
       "1      EMP002     Jane Smith           HR  $55,000\n",
       "2      EMP003    Michael Lee        Sales  $60,000\n",
       "3      EMP004    Emily Brown      Finance  $65,000\n",
       "4      EMP005  David Johnson  Engineering  $70,000\n",
       "5      EMP006   Sarah Wilson    Marketing  $55,000\n",
       "6      EMP007    Kevin Clark           HR  $58,000\n",
       "7      EMP008     Lisa Davis        Sales  $62,000\n",
       "8      EMP009   Jason Taylor      Finance  $67,000\n",
       "9      EMP010  Amanda Wright  Engineering  $72,000"
      ]
     },
     "execution_count": 6,
     "metadata": {},
     "output_type": "execute_result"
    }
   ],
   "source": [
    "df"
   ]
  },
  {
   "cell_type": "code",
   "execution_count": 7,
   "id": "a5889c68",
   "metadata": {},
   "outputs": [
    {
     "data": {
      "text/plain": [
       "Index(['Employee ID', 'Name', 'Department', 'Salary'], dtype='object')"
      ]
     },
     "execution_count": 7,
     "metadata": {},
     "output_type": "execute_result"
    }
   ],
   "source": [
    "df.columns"
   ]
  },
  {
   "cell_type": "code",
   "execution_count": 8,
   "id": "bd8915f4",
   "metadata": {},
   "outputs": [
    {
     "data": {
      "text/plain": [
       "Employee ID       EMP001\n",
       "Name            John Doe\n",
       "Department     Marketing\n",
       "Salary           $50,000\n",
       "Name: 0, dtype: object"
      ]
     },
     "execution_count": 8,
     "metadata": {},
     "output_type": "execute_result"
    }
   ],
   "source": [
    "df.iloc[0]"
   ]
  },
  {
   "cell_type": "code",
   "execution_count": 9,
   "id": "8f82a1bd",
   "metadata": {},
   "outputs": [
    {
     "data": {
      "text/plain": [
       "Employee ID        EMP002\n",
       "Name           Jane Smith\n",
       "Department             HR\n",
       "Salary            $55,000\n",
       "Name: 1, dtype: object"
      ]
     },
     "execution_count": 9,
     "metadata": {},
     "output_type": "execute_result"
    }
   ],
   "source": [
    "df.iloc[1]"
   ]
  },
  {
   "cell_type": "code",
   "execution_count": 10,
   "id": "07a0f6d5",
   "metadata": {},
   "outputs": [
    {
     "data": {
      "text/html": [
       "<div>\n",
       "<style scoped>\n",
       "    .dataframe tbody tr th:only-of-type {\n",
       "        vertical-align: middle;\n",
       "    }\n",
       "\n",
       "    .dataframe tbody tr th {\n",
       "        vertical-align: top;\n",
       "    }\n",
       "\n",
       "    .dataframe thead th {\n",
       "        text-align: right;\n",
       "    }\n",
       "</style>\n",
       "<table border=\"1\" class=\"dataframe\">\n",
       "  <thead>\n",
       "    <tr style=\"text-align: right;\">\n",
       "      <th></th>\n",
       "      <th>Employee ID</th>\n",
       "      <th>Name</th>\n",
       "      <th>Department</th>\n",
       "      <th>Salary</th>\n",
       "    </tr>\n",
       "  </thead>\n",
       "  <tbody>\n",
       "    <tr>\n",
       "      <th>0</th>\n",
       "      <td>EMP001</td>\n",
       "      <td>John Doe</td>\n",
       "      <td>Marketing</td>\n",
       "      <td>$50,000</td>\n",
       "    </tr>\n",
       "    <tr>\n",
       "      <th>1</th>\n",
       "      <td>EMP002</td>\n",
       "      <td>Jane Smith</td>\n",
       "      <td>HR</td>\n",
       "      <td>$55,000</td>\n",
       "    </tr>\n",
       "  </tbody>\n",
       "</table>\n",
       "</div>"
      ],
      "text/plain": [
       "  Employee ID        Name Department   Salary\n",
       "0      EMP001    John Doe  Marketing  $50,000\n",
       "1      EMP002  Jane Smith         HR  $55,000"
      ]
     },
     "execution_count": 10,
     "metadata": {},
     "output_type": "execute_result"
    }
   ],
   "source": [
    "df.iloc[[0,1]]"
   ]
  },
  {
   "cell_type": "code",
   "execution_count": 11,
   "id": "15f2eb20",
   "metadata": {},
   "outputs": [
    {
     "data": {
      "text/plain": [
       "0    Marketing\n",
       "1           HR\n",
       "Name: Department, dtype: object"
      ]
     },
     "execution_count": 11,
     "metadata": {},
     "output_type": "execute_result"
    }
   ],
   "source": [
    "df.iloc[[0,1],2]"
   ]
  },
  {
   "cell_type": "code",
   "execution_count": 12,
   "id": "be0391e5",
   "metadata": {},
   "outputs": [
    {
     "data": {
      "text/html": [
       "<div>\n",
       "<style scoped>\n",
       "    .dataframe tbody tr th:only-of-type {\n",
       "        vertical-align: middle;\n",
       "    }\n",
       "\n",
       "    .dataframe tbody tr th {\n",
       "        vertical-align: top;\n",
       "    }\n",
       "\n",
       "    .dataframe thead th {\n",
       "        text-align: right;\n",
       "    }\n",
       "</style>\n",
       "<table border=\"1\" class=\"dataframe\">\n",
       "  <thead>\n",
       "    <tr style=\"text-align: right;\">\n",
       "      <th></th>\n",
       "      <th>Employee ID</th>\n",
       "      <th>Name</th>\n",
       "      <th>Department</th>\n",
       "      <th>Salary</th>\n",
       "    </tr>\n",
       "  </thead>\n",
       "  <tbody>\n",
       "    <tr>\n",
       "      <th>0</th>\n",
       "      <td>EMP001</td>\n",
       "      <td>John Doe</td>\n",
       "      <td>Marketing</td>\n",
       "      <td>$50,000</td>\n",
       "    </tr>\n",
       "    <tr>\n",
       "      <th>1</th>\n",
       "      <td>EMP002</td>\n",
       "      <td>Jane Smith</td>\n",
       "      <td>HR</td>\n",
       "      <td>$55,000</td>\n",
       "    </tr>\n",
       "  </tbody>\n",
       "</table>\n",
       "</div>"
      ],
      "text/plain": [
       "  Employee ID        Name Department   Salary\n",
       "0      EMP001    John Doe  Marketing  $50,000\n",
       "1      EMP002  Jane Smith         HR  $55,000"
      ]
     },
     "execution_count": 12,
     "metadata": {},
     "output_type": "execute_result"
    }
   ],
   "source": [
    "df.loc[[0,1]]"
   ]
  },
  {
   "cell_type": "code",
   "execution_count": 13,
   "id": "75c1afae",
   "metadata": {},
   "outputs": [
    {
     "data": {
      "text/plain": [
       "0    Marketing\n",
       "1           HR\n",
       "Name: Department, dtype: object"
      ]
     },
     "execution_count": 13,
     "metadata": {},
     "output_type": "execute_result"
    }
   ],
   "source": [
    "df.loc[[0,1], 'Department']"
   ]
  },
  {
   "cell_type": "code",
   "execution_count": 14,
   "id": "75ab1fff",
   "metadata": {},
   "outputs": [
    {
     "data": {
      "text/html": [
       "<div>\n",
       "<style scoped>\n",
       "    .dataframe tbody tr th:only-of-type {\n",
       "        vertical-align: middle;\n",
       "    }\n",
       "\n",
       "    .dataframe tbody tr th {\n",
       "        vertical-align: top;\n",
       "    }\n",
       "\n",
       "    .dataframe thead th {\n",
       "        text-align: right;\n",
       "    }\n",
       "</style>\n",
       "<table border=\"1\" class=\"dataframe\">\n",
       "  <thead>\n",
       "    <tr style=\"text-align: right;\">\n",
       "      <th></th>\n",
       "      <th>Employee ID</th>\n",
       "      <th>Name</th>\n",
       "      <th>Department</th>\n",
       "      <th>Salary</th>\n",
       "    </tr>\n",
       "  </thead>\n",
       "  <tbody>\n",
       "    <tr>\n",
       "      <th>0</th>\n",
       "      <td>EMP001</td>\n",
       "      <td>John Doe</td>\n",
       "      <td>Marketing</td>\n",
       "      <td>$50,000</td>\n",
       "    </tr>\n",
       "    <tr>\n",
       "      <th>1</th>\n",
       "      <td>EMP002</td>\n",
       "      <td>Jane Smith</td>\n",
       "      <td>HR</td>\n",
       "      <td>$55,000</td>\n",
       "    </tr>\n",
       "    <tr>\n",
       "      <th>2</th>\n",
       "      <td>EMP003</td>\n",
       "      <td>Michael Lee</td>\n",
       "      <td>Sales</td>\n",
       "      <td>$60,000</td>\n",
       "    </tr>\n",
       "    <tr>\n",
       "      <th>3</th>\n",
       "      <td>EMP004</td>\n",
       "      <td>Emily Brown</td>\n",
       "      <td>Finance</td>\n",
       "      <td>$65,000</td>\n",
       "    </tr>\n",
       "    <tr>\n",
       "      <th>4</th>\n",
       "      <td>EMP005</td>\n",
       "      <td>David Johnson</td>\n",
       "      <td>Engineering</td>\n",
       "      <td>$70,000</td>\n",
       "    </tr>\n",
       "    <tr>\n",
       "      <th>5</th>\n",
       "      <td>EMP006</td>\n",
       "      <td>Sarah Wilson</td>\n",
       "      <td>Marketing</td>\n",
       "      <td>$55,000</td>\n",
       "    </tr>\n",
       "    <tr>\n",
       "      <th>6</th>\n",
       "      <td>EMP007</td>\n",
       "      <td>Kevin Clark</td>\n",
       "      <td>HR</td>\n",
       "      <td>$58,000</td>\n",
       "    </tr>\n",
       "    <tr>\n",
       "      <th>7</th>\n",
       "      <td>EMP008</td>\n",
       "      <td>Lisa Davis</td>\n",
       "      <td>Sales</td>\n",
       "      <td>$62,000</td>\n",
       "    </tr>\n",
       "    <tr>\n",
       "      <th>8</th>\n",
       "      <td>EMP009</td>\n",
       "      <td>Jason Taylor</td>\n",
       "      <td>Finance</td>\n",
       "      <td>$67,000</td>\n",
       "    </tr>\n",
       "    <tr>\n",
       "      <th>9</th>\n",
       "      <td>EMP010</td>\n",
       "      <td>Amanda Wright</td>\n",
       "      <td>Engineering</td>\n",
       "      <td>$72,000</td>\n",
       "    </tr>\n",
       "  </tbody>\n",
       "</table>\n",
       "</div>"
      ],
      "text/plain": [
       "  Employee ID           Name   Department   Salary\n",
       "0      EMP001       John Doe    Marketing  $50,000\n",
       "1      EMP002     Jane Smith           HR  $55,000\n",
       "2      EMP003    Michael Lee        Sales  $60,000\n",
       "3      EMP004    Emily Brown      Finance  $65,000\n",
       "4      EMP005  David Johnson  Engineering  $70,000\n",
       "5      EMP006   Sarah Wilson    Marketing  $55,000\n",
       "6      EMP007    Kevin Clark           HR  $58,000\n",
       "7      EMP008     Lisa Davis        Sales  $62,000\n",
       "8      EMP009   Jason Taylor      Finance  $67,000\n",
       "9      EMP010  Amanda Wright  Engineering  $72,000"
      ]
     },
     "execution_count": 14,
     "metadata": {},
     "output_type": "execute_result"
    }
   ],
   "source": [
    "df"
   ]
  },
  {
   "cell_type": "markdown",
   "id": "5fb7f7a3",
   "metadata": {},
   "source": [
    "# Performing basic data manipulation"
   ]
  },
  {
   "cell_type": "code",
   "execution_count": 15,
   "id": "454bf1c0",
   "metadata": {},
   "outputs": [],
   "source": [
    "df['Salary'] = df['Salary'].replace({'\\$':'',',':''}, regex=True)"
   ]
  },
  {
   "cell_type": "code",
   "execution_count": 16,
   "id": "6ebc37d2",
   "metadata": {},
   "outputs": [
    {
     "data": {
      "text/html": [
       "<div>\n",
       "<style scoped>\n",
       "    .dataframe tbody tr th:only-of-type {\n",
       "        vertical-align: middle;\n",
       "    }\n",
       "\n",
       "    .dataframe tbody tr th {\n",
       "        vertical-align: top;\n",
       "    }\n",
       "\n",
       "    .dataframe thead th {\n",
       "        text-align: right;\n",
       "    }\n",
       "</style>\n",
       "<table border=\"1\" class=\"dataframe\">\n",
       "  <thead>\n",
       "    <tr style=\"text-align: right;\">\n",
       "      <th></th>\n",
       "      <th>Employee ID</th>\n",
       "      <th>Name</th>\n",
       "      <th>Department</th>\n",
       "      <th>Salary</th>\n",
       "    </tr>\n",
       "  </thead>\n",
       "  <tbody>\n",
       "    <tr>\n",
       "      <th>0</th>\n",
       "      <td>EMP001</td>\n",
       "      <td>John Doe</td>\n",
       "      <td>Marketing</td>\n",
       "      <td>50000</td>\n",
       "    </tr>\n",
       "    <tr>\n",
       "      <th>1</th>\n",
       "      <td>EMP002</td>\n",
       "      <td>Jane Smith</td>\n",
       "      <td>HR</td>\n",
       "      <td>55000</td>\n",
       "    </tr>\n",
       "    <tr>\n",
       "      <th>2</th>\n",
       "      <td>EMP003</td>\n",
       "      <td>Michael Lee</td>\n",
       "      <td>Sales</td>\n",
       "      <td>60000</td>\n",
       "    </tr>\n",
       "    <tr>\n",
       "      <th>3</th>\n",
       "      <td>EMP004</td>\n",
       "      <td>Emily Brown</td>\n",
       "      <td>Finance</td>\n",
       "      <td>65000</td>\n",
       "    </tr>\n",
       "    <tr>\n",
       "      <th>4</th>\n",
       "      <td>EMP005</td>\n",
       "      <td>David Johnson</td>\n",
       "      <td>Engineering</td>\n",
       "      <td>70000</td>\n",
       "    </tr>\n",
       "    <tr>\n",
       "      <th>5</th>\n",
       "      <td>EMP006</td>\n",
       "      <td>Sarah Wilson</td>\n",
       "      <td>Marketing</td>\n",
       "      <td>55000</td>\n",
       "    </tr>\n",
       "    <tr>\n",
       "      <th>6</th>\n",
       "      <td>EMP007</td>\n",
       "      <td>Kevin Clark</td>\n",
       "      <td>HR</td>\n",
       "      <td>58000</td>\n",
       "    </tr>\n",
       "    <tr>\n",
       "      <th>7</th>\n",
       "      <td>EMP008</td>\n",
       "      <td>Lisa Davis</td>\n",
       "      <td>Sales</td>\n",
       "      <td>62000</td>\n",
       "    </tr>\n",
       "    <tr>\n",
       "      <th>8</th>\n",
       "      <td>EMP009</td>\n",
       "      <td>Jason Taylor</td>\n",
       "      <td>Finance</td>\n",
       "      <td>67000</td>\n",
       "    </tr>\n",
       "    <tr>\n",
       "      <th>9</th>\n",
       "      <td>EMP010</td>\n",
       "      <td>Amanda Wright</td>\n",
       "      <td>Engineering</td>\n",
       "      <td>72000</td>\n",
       "    </tr>\n",
       "  </tbody>\n",
       "</table>\n",
       "</div>"
      ],
      "text/plain": [
       "  Employee ID           Name   Department Salary\n",
       "0      EMP001       John Doe    Marketing  50000\n",
       "1      EMP002     Jane Smith           HR  55000\n",
       "2      EMP003    Michael Lee        Sales  60000\n",
       "3      EMP004    Emily Brown      Finance  65000\n",
       "4      EMP005  David Johnson  Engineering  70000\n",
       "5      EMP006   Sarah Wilson    Marketing  55000\n",
       "6      EMP007    Kevin Clark           HR  58000\n",
       "7      EMP008     Lisa Davis        Sales  62000\n",
       "8      EMP009   Jason Taylor      Finance  67000\n",
       "9      EMP010  Amanda Wright  Engineering  72000"
      ]
     },
     "execution_count": 16,
     "metadata": {},
     "output_type": "execute_result"
    }
   ],
   "source": [
    "df"
   ]
  },
  {
   "cell_type": "code",
   "execution_count": 17,
   "id": "abce1f63",
   "metadata": {},
   "outputs": [
    {
     "data": {
      "text/plain": [
       "pandas.core.series.Series"
      ]
     },
     "execution_count": 17,
     "metadata": {},
     "output_type": "execute_result"
    }
   ],
   "source": [
    "type(df['Salary'])"
   ]
  },
  {
   "cell_type": "code",
   "execution_count": 18,
   "id": "2c36700a",
   "metadata": {},
   "outputs": [],
   "source": [
    "df['Salary'] = df['Salary'].astype(int)"
   ]
  },
  {
   "cell_type": "code",
   "execution_count": 19,
   "id": "be52e613",
   "metadata": {},
   "outputs": [],
   "source": [
    "marketing_emp = df[df['Department']=='Marketing']"
   ]
  },
  {
   "cell_type": "code",
   "execution_count": 20,
   "id": "fd75e50a",
   "metadata": {},
   "outputs": [
    {
     "data": {
      "text/html": [
       "<div>\n",
       "<style scoped>\n",
       "    .dataframe tbody tr th:only-of-type {\n",
       "        vertical-align: middle;\n",
       "    }\n",
       "\n",
       "    .dataframe tbody tr th {\n",
       "        vertical-align: top;\n",
       "    }\n",
       "\n",
       "    .dataframe thead th {\n",
       "        text-align: right;\n",
       "    }\n",
       "</style>\n",
       "<table border=\"1\" class=\"dataframe\">\n",
       "  <thead>\n",
       "    <tr style=\"text-align: right;\">\n",
       "      <th></th>\n",
       "      <th>Employee ID</th>\n",
       "      <th>Name</th>\n",
       "      <th>Department</th>\n",
       "      <th>Salary</th>\n",
       "    </tr>\n",
       "  </thead>\n",
       "  <tbody>\n",
       "    <tr>\n",
       "      <th>0</th>\n",
       "      <td>EMP001</td>\n",
       "      <td>John Doe</td>\n",
       "      <td>Marketing</td>\n",
       "      <td>50000</td>\n",
       "    </tr>\n",
       "    <tr>\n",
       "      <th>5</th>\n",
       "      <td>EMP006</td>\n",
       "      <td>Sarah Wilson</td>\n",
       "      <td>Marketing</td>\n",
       "      <td>55000</td>\n",
       "    </tr>\n",
       "  </tbody>\n",
       "</table>\n",
       "</div>"
      ],
      "text/plain": [
       "  Employee ID          Name Department  Salary\n",
       "0      EMP001      John Doe  Marketing   50000\n",
       "5      EMP006  Sarah Wilson  Marketing   55000"
      ]
     },
     "execution_count": 20,
     "metadata": {},
     "output_type": "execute_result"
    }
   ],
   "source": [
    "marketing_emp"
   ]
  },
  {
   "cell_type": "code",
   "execution_count": 21,
   "id": "801ae4a5",
   "metadata": {},
   "outputs": [],
   "source": [
    "df_SortSal = df.sort_values(by ='Salary')"
   ]
  },
  {
   "cell_type": "code",
   "execution_count": 22,
   "id": "56c4cb78",
   "metadata": {},
   "outputs": [
    {
     "data": {
      "text/html": [
       "<div>\n",
       "<style scoped>\n",
       "    .dataframe tbody tr th:only-of-type {\n",
       "        vertical-align: middle;\n",
       "    }\n",
       "\n",
       "    .dataframe tbody tr th {\n",
       "        vertical-align: top;\n",
       "    }\n",
       "\n",
       "    .dataframe thead th {\n",
       "        text-align: right;\n",
       "    }\n",
       "</style>\n",
       "<table border=\"1\" class=\"dataframe\">\n",
       "  <thead>\n",
       "    <tr style=\"text-align: right;\">\n",
       "      <th></th>\n",
       "      <th>Employee ID</th>\n",
       "      <th>Name</th>\n",
       "      <th>Department</th>\n",
       "      <th>Salary</th>\n",
       "    </tr>\n",
       "  </thead>\n",
       "  <tbody>\n",
       "    <tr>\n",
       "      <th>0</th>\n",
       "      <td>EMP001</td>\n",
       "      <td>John Doe</td>\n",
       "      <td>Marketing</td>\n",
       "      <td>50000</td>\n",
       "    </tr>\n",
       "    <tr>\n",
       "      <th>1</th>\n",
       "      <td>EMP002</td>\n",
       "      <td>Jane Smith</td>\n",
       "      <td>HR</td>\n",
       "      <td>55000</td>\n",
       "    </tr>\n",
       "    <tr>\n",
       "      <th>5</th>\n",
       "      <td>EMP006</td>\n",
       "      <td>Sarah Wilson</td>\n",
       "      <td>Marketing</td>\n",
       "      <td>55000</td>\n",
       "    </tr>\n",
       "    <tr>\n",
       "      <th>6</th>\n",
       "      <td>EMP007</td>\n",
       "      <td>Kevin Clark</td>\n",
       "      <td>HR</td>\n",
       "      <td>58000</td>\n",
       "    </tr>\n",
       "    <tr>\n",
       "      <th>2</th>\n",
       "      <td>EMP003</td>\n",
       "      <td>Michael Lee</td>\n",
       "      <td>Sales</td>\n",
       "      <td>60000</td>\n",
       "    </tr>\n",
       "    <tr>\n",
       "      <th>7</th>\n",
       "      <td>EMP008</td>\n",
       "      <td>Lisa Davis</td>\n",
       "      <td>Sales</td>\n",
       "      <td>62000</td>\n",
       "    </tr>\n",
       "    <tr>\n",
       "      <th>3</th>\n",
       "      <td>EMP004</td>\n",
       "      <td>Emily Brown</td>\n",
       "      <td>Finance</td>\n",
       "      <td>65000</td>\n",
       "    </tr>\n",
       "    <tr>\n",
       "      <th>8</th>\n",
       "      <td>EMP009</td>\n",
       "      <td>Jason Taylor</td>\n",
       "      <td>Finance</td>\n",
       "      <td>67000</td>\n",
       "    </tr>\n",
       "    <tr>\n",
       "      <th>4</th>\n",
       "      <td>EMP005</td>\n",
       "      <td>David Johnson</td>\n",
       "      <td>Engineering</td>\n",
       "      <td>70000</td>\n",
       "    </tr>\n",
       "    <tr>\n",
       "      <th>9</th>\n",
       "      <td>EMP010</td>\n",
       "      <td>Amanda Wright</td>\n",
       "      <td>Engineering</td>\n",
       "      <td>72000</td>\n",
       "    </tr>\n",
       "  </tbody>\n",
       "</table>\n",
       "</div>"
      ],
      "text/plain": [
       "  Employee ID           Name   Department  Salary\n",
       "0      EMP001       John Doe    Marketing   50000\n",
       "1      EMP002     Jane Smith           HR   55000\n",
       "5      EMP006   Sarah Wilson    Marketing   55000\n",
       "6      EMP007    Kevin Clark           HR   58000\n",
       "2      EMP003    Michael Lee        Sales   60000\n",
       "7      EMP008     Lisa Davis        Sales   62000\n",
       "3      EMP004    Emily Brown      Finance   65000\n",
       "8      EMP009   Jason Taylor      Finance   67000\n",
       "4      EMP005  David Johnson  Engineering   70000\n",
       "9      EMP010  Amanda Wright  Engineering   72000"
      ]
     },
     "execution_count": 22,
     "metadata": {},
     "output_type": "execute_result"
    }
   ],
   "source": [
    "df_SortSal"
   ]
  },
  {
   "cell_type": "code",
   "execution_count": null,
   "id": "fa58c6eb",
   "metadata": {},
   "outputs": [],
   "source": []
  }
 ],
 "metadata": {
  "hide_input": false,
  "kernelspec": {
   "display_name": "Python 3 (ipykernel)",
   "language": "python",
   "name": "python3"
  },
  "language_info": {
   "codemirror_mode": {
    "name": "ipython",
    "version": 3
   },
   "file_extension": ".py",
   "mimetype": "text/x-python",
   "name": "python",
   "nbconvert_exporter": "python",
   "pygments_lexer": "ipython3",
   "version": "3.9.12"
  }
 },
 "nbformat": 4,
 "nbformat_minor": 5
}
